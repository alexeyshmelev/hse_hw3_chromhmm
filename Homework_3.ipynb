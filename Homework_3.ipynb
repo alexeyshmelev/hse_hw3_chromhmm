{
  "nbformat": 4,
  "nbformat_minor": 0,
  "metadata": {
    "colab": {
      "name": "Homework 3.ipynb",
      "provenance": []
    },
    "kernelspec": {
      "name": "python3",
      "display_name": "Python 3"
    },
    "language_info": {
      "name": "python"
    }
  },
  "cells": [
    {
      "cell_type": "code",
      "source": [
        "!curl -O https://raw.githubusercontent.com/deepjavalibrary/d2l-java/master/tools/fix-colab-gpu.sh && bash fix-colab-gpu.sh"
      ],
      "metadata": {
        "colab": {
          "base_uri": "https://localhost:8080/"
        },
        "id": "1O3GJ3Gys7Tm",
        "outputId": "4f618962-4649-4dec-cc65-37bf39e1509f"
      },
      "execution_count": 1,
      "outputs": [
        {
          "output_type": "stream",
          "name": "stdout",
          "text": [
            "  % Total    % Received % Xferd  Average Speed   Time    Time     Time  Current\n",
            "                                 Dload  Upload   Total   Spent    Left  Speed\n",
            "\r  0     0    0     0    0     0      0      0 --:--:-- --:--:-- --:--:--     0\r100   155  100   155    0     0   1013      0 --:--:-- --:--:-- --:--:--  1013\n",
            "nvcc: NVIDIA (R) Cuda compiler driver\n",
            "Copyright (c) 2005-2019 NVIDIA Corporation\n",
            "Built on Sun_Jul_28_19:07:16_PDT_2019\n",
            "Cuda compilation tools, release 10.1, V10.1.243\n"
          ]
        }
      ]
    },
    {
      "cell_type": "code",
      "execution_count": 2,
      "metadata": {
        "colab": {
          "base_uri": "https://localhost:8080/"
        },
        "id": "NxS1Mv5WquOV",
        "outputId": "69cb33db-a211-4070-810c-7160c7071d49"
      },
      "outputs": [
        {
          "output_type": "stream",
          "name": "stdout",
          "text": [
            "  % Total    % Received % Xferd  Average Speed   Time    Time     Time  Current\n",
            "                                 Dload  Upload   Total   Spent    Left  Speed\n",
            "100   520  100   520    0     0   3561      0 --:--:-- --:--:-- --:--:--  3561\n",
            "Update environment...\n",
            "Install Java...\n",
            "Install Jupyter java kernel...\n"
          ]
        }
      ],
      "source": [
        "!curl -O https://raw.githubusercontent.com/deepjavalibrary/d2l-java/master/tools/colab_build.sh && bash colab_build.sh"
      ]
    },
    {
      "cell_type": "code",
      "source": [
        "!java --list-modules | grep \"jdk.jshell\"\n"
      ],
      "metadata": {
        "colab": {
          "base_uri": "https://localhost:8080/"
        },
        "id": "_NrPS924rQFX",
        "outputId": "e7f3de0a-31cb-4fa5-cd74-edc0b40d6666"
      },
      "execution_count": 3,
      "outputs": [
        {
          "output_type": "stream",
          "name": "stdout",
          "text": [
            "jdk.jshell@11.0.14\n"
          ]
        }
      ]
    },
    {
      "cell_type": "code",
      "source": [
        "! wget http://compbio.mit.edu/ChromHMM/ChromHMM.zip"
      ],
      "metadata": {
        "colab": {
          "base_uri": "https://localhost:8080/"
        },
        "id": "zCdYYvCJrpRt",
        "outputId": "12b57f91-007e-4d99-c36b-26b804b60e35"
      },
      "execution_count": 4,
      "outputs": [
        {
          "output_type": "stream",
          "name": "stdout",
          "text": [
            "--2022-03-27 18:54:20--  http://compbio.mit.edu/ChromHMM/ChromHMM.zip\n",
            "Resolving compbio.mit.edu (compbio.mit.edu)... 128.30.2.44\n",
            "Connecting to compbio.mit.edu (compbio.mit.edu)|128.30.2.44|:80... connected.\n",
            "HTTP request sent, awaiting response... 200 OK\n",
            "Length: 42396742 (40M) [application/zip]\n",
            "Saving to: ‘ChromHMM.zip’\n",
            "\n",
            "ChromHMM.zip        100%[===================>]  40.43M  26.0MB/s    in 1.6s    \n",
            "\n",
            "2022-03-27 18:54:22 (26.0 MB/s) - ‘ChromHMM.zip’ saved [42396742/42396742]\n",
            "\n"
          ]
        }
      ]
    },
    {
      "cell_type": "code",
      "source": [
        "!unzip /content/ChromHMM.zip"
      ],
      "metadata": {
        "id": "gF4uI2bvvEN2",
        "colab": {
          "base_uri": "https://localhost:8080/"
        },
        "outputId": "35ac0acf-034a-402b-dc6f-d66028e9f5fc"
      },
      "execution_count": 5,
      "outputs": [
        {
          "output_type": "stream",
          "name": "stdout",
          "text": [
            "Archive:  /content/ChromHMM.zip\n",
            "   creating: ChromHMM/ANCHORFILES/\n",
            "   creating: ChromHMM/ANCHORFILES/ce10/\n",
            "  inflating: ChromHMM/ANCHORFILES/ce10/RefSeqTES.ce10.txt.gz  \n",
            "  inflating: ChromHMM/ANCHORFILES/ce10/RefSeqTSS.ce10.txt.gz  \n",
            "   creating: ChromHMM/ANCHORFILES/ce11/\n",
            "  inflating: ChromHMM/ANCHORFILES/ce11/RefSeqTES.ce11.txt.gz  \n",
            "  inflating: ChromHMM/ANCHORFILES/ce11/RefSeqTSS.ce11.txt.gz  \n",
            "   creating: ChromHMM/ANCHORFILES/ce6/\n",
            "  inflating: ChromHMM/ANCHORFILES/ce6/RefSeqTES.ce6.txt.gz  \n",
            "  inflating: ChromHMM/ANCHORFILES/ce6/RefSeqTSS.ce6.txt.gz  \n",
            "   creating: ChromHMM/ANCHORFILES/danRer10/\n",
            "  inflating: ChromHMM/ANCHORFILES/danRer10/RefSeqTES.danRer10.txt.gz  \n",
            "  inflating: ChromHMM/ANCHORFILES/danRer10/RefSeqTSS.danRer10.txt.gz  \n",
            "   creating: ChromHMM/ANCHORFILES/danRer11/\n",
            "  inflating: ChromHMM/ANCHORFILES/danRer11/RefSeqTES.danRer11.txt.gz  \n",
            "  inflating: ChromHMM/ANCHORFILES/danRer11/RefSeqTSS.danRer11.txt.gz  \n",
            "   creating: ChromHMM/ANCHORFILES/danRer7/\n",
            "  inflating: ChromHMM/ANCHORFILES/danRer7/RefSeqTES.danRer7.txt.gz  \n",
            "  inflating: ChromHMM/ANCHORFILES/danRer7/RefSeqTSS.danRer7.txt.gz  \n",
            "   creating: ChromHMM/ANCHORFILES/dm3/\n",
            "  inflating: ChromHMM/ANCHORFILES/dm3/RefSeqTES.dm3.txt.gz  \n",
            "  inflating: ChromHMM/ANCHORFILES/dm3/RefSeqTSS.dm3.txt.gz  \n",
            "   creating: ChromHMM/ANCHORFILES/dm6/\n",
            "  inflating: ChromHMM/ANCHORFILES/dm6/RefSeqTES.dm6.txt.gz  \n",
            "  inflating: ChromHMM/ANCHORFILES/dm6/RefSeqTSS.dm6.txt.gz  \n",
            "   creating: ChromHMM/ANCHORFILES/hg18/\n",
            "  inflating: ChromHMM/ANCHORFILES/hg18/RefSeqTES.hg18.txt.gz  \n",
            "  inflating: ChromHMM/ANCHORFILES/hg18/RefSeqTSS.hg18.txt.gz  \n",
            "   creating: ChromHMM/ANCHORFILES/hg19/\n",
            "  inflating: ChromHMM/ANCHORFILES/hg19/RefSeqTES.hg19.txt.gz  \n",
            "  inflating: ChromHMM/ANCHORFILES/hg19/RefSeqTSS.hg19.txt.gz  \n",
            "   creating: ChromHMM/ANCHORFILES/hg38/\n",
            "  inflating: ChromHMM/ANCHORFILES/hg38/RefSeqTES.hg38.txt.gz  \n",
            "  inflating: ChromHMM/ANCHORFILES/hg38/RefSeqTSS.hg38.txt.gz  \n",
            "   creating: ChromHMM/ANCHORFILES/mm10/\n",
            "  inflating: ChromHMM/ANCHORFILES/mm10/RefSeqTES.mm10.txt.gz  \n",
            "  inflating: ChromHMM/ANCHORFILES/mm10/RefSeqTSS.mm10.txt.gz  \n",
            "   creating: ChromHMM/ANCHORFILES/mm9/\n",
            "  inflating: ChromHMM/ANCHORFILES/mm9/RefSeqTES.mm9.txt.gz  \n",
            "  inflating: ChromHMM/ANCHORFILES/mm9/RefSeqTSS.mm9.txt.gz  \n",
            "   creating: ChromHMM/ANCHORFILES/rn5/\n",
            "  inflating: ChromHMM/ANCHORFILES/rn5/RefSeqTES.rn5.txt.gz  \n",
            "  inflating: ChromHMM/ANCHORFILES/rn5/RefSeqTSS.rn5.txt.gz  \n",
            "   creating: ChromHMM/ANCHORFILES/rn6/\n",
            "  inflating: ChromHMM/ANCHORFILES/rn6/RefSeqTES.rn6.txt.gz  \n",
            "  inflating: ChromHMM/ANCHORFILES/rn6/RefSeqTSS.rn6.txt.gz  \n",
            "  inflating: ChromHMM/ChromHMM.jar   \n",
            "  inflating: ChromHMM/ChromHMM_manual.pdf  \n",
            "   creating: ChromHMM/CHROMSIZES/\n",
            "  inflating: ChromHMM/CHROMSIZES/ce10.txt  \n",
            "  inflating: ChromHMM/CHROMSIZES/ce11.txt  \n",
            "  inflating: ChromHMM/CHROMSIZES/ce6.txt  \n",
            "  inflating: ChromHMM/CHROMSIZES/danRer10.txt  \n",
            "  inflating: ChromHMM/CHROMSIZES/danRer11.txt  \n",
            "  inflating: ChromHMM/CHROMSIZES/danRer7.txt  \n",
            "  inflating: ChromHMM/CHROMSIZES/dm3.txt  \n",
            "  inflating: ChromHMM/CHROMSIZES/dm6.txt  \n",
            "  inflating: ChromHMM/CHROMSIZES/hg18.txt  \n",
            "  inflating: ChromHMM/CHROMSIZES/hg19.txt  \n",
            "  inflating: ChromHMM/CHROMSIZES/hg38.txt  \n",
            "  inflating: ChromHMM/CHROMSIZES/mm10.txt  \n",
            "  inflating: ChromHMM/CHROMSIZES/mm9.txt  \n",
            "  inflating: ChromHMM/CHROMSIZES/rn5.txt  \n",
            "  inflating: ChromHMM/CHROMSIZES/rn6.txt  \n",
            "   creating: ChromHMM/COORDS/\n",
            "   creating: ChromHMM/COORDS/ce10/\n",
            "  inflating: ChromHMM/COORDS/ce10/RefSeqExon.ce10.bed.gz  \n",
            "  inflating: ChromHMM/COORDS/ce10/RefSeqGene.ce10.bed.gz  \n",
            "  inflating: ChromHMM/COORDS/ce10/RefSeqTES.ce10.bed.gz  \n",
            "  inflating: ChromHMM/COORDS/ce10/RefSeqTSS.ce10.bed.gz  \n",
            "  inflating: ChromHMM/COORDS/ce10/RefSeqTSS2kb.ce10.bed.gz  \n",
            "   creating: ChromHMM/COORDS/ce11/\n",
            "  inflating: ChromHMM/COORDS/ce11/RefSeqExon.ce11.bed.gz  \n",
            "  inflating: ChromHMM/COORDS/ce11/RefSeqGene.ce11.bed.gz  \n",
            "  inflating: ChromHMM/COORDS/ce11/RefSeqTES.ce11.bed.gz  \n",
            "  inflating: ChromHMM/COORDS/ce11/RefSeqTSS.ce11.bed.gz  \n",
            "  inflating: ChromHMM/COORDS/ce11/RefSeqTSS2kb.ce11.bed.gz  \n",
            "   creating: ChromHMM/COORDS/ce6/\n",
            "  inflating: ChromHMM/COORDS/ce6/RefSeqExon.ce6.bed.gz  \n",
            "  inflating: ChromHMM/COORDS/ce6/RefSeqGene.ce6.bed.gz  \n",
            "  inflating: ChromHMM/COORDS/ce6/RefSeqTES.ce6.bed.gz  \n",
            "  inflating: ChromHMM/COORDS/ce6/RefSeqTSS.ce6.bed.gz  \n",
            "  inflating: ChromHMM/COORDS/ce6/RefSeqTSS2kb.ce6.bed.gz  \n",
            "   creating: ChromHMM/COORDS/danRer10/\n",
            "  inflating: ChromHMM/COORDS/danRer10/RefSeqExon.danRer10.bed.gz  \n",
            "  inflating: ChromHMM/COORDS/danRer10/RefSeqGene.danRer10.bed.gz  \n",
            "  inflating: ChromHMM/COORDS/danRer10/RefSeqTES.danRer10.bed.gz  \n",
            "  inflating: ChromHMM/COORDS/danRer10/RefSeqTSS.danRer10.bed.gz  \n",
            "  inflating: ChromHMM/COORDS/danRer10/RefSeqTSS2kb.danRer10.bed.gz  \n",
            "   creating: ChromHMM/COORDS/danRer11/\n",
            "  inflating: ChromHMM/COORDS/danRer11/RefSeqExon.danRer11.bed.gz  \n",
            "  inflating: ChromHMM/COORDS/danRer11/RefSeqGene.danRer11.bed.gz  \n",
            "  inflating: ChromHMM/COORDS/danRer11/RefSeqTES.danRer11.bed.gz  \n",
            "  inflating: ChromHMM/COORDS/danRer11/RefSeqTSS.danRer11.bed.gz  \n",
            "  inflating: ChromHMM/COORDS/danRer11/RefSeqTSS2kb.danRer11.bed.gz  \n",
            "   creating: ChromHMM/COORDS/danRer7/\n",
            "  inflating: ChromHMM/COORDS/danRer7/RefSeqExon.danRer7.bed.gz  \n",
            "  inflating: ChromHMM/COORDS/danRer7/RefSeqGene.danRer7.bed.gz  \n",
            "  inflating: ChromHMM/COORDS/danRer7/RefSeqTES.danRer7.bed.gz  \n",
            "  inflating: ChromHMM/COORDS/danRer7/RefSeqTSS.danRer7.bed.gz  \n",
            "  inflating: ChromHMM/COORDS/danRer7/RefSeqTSS2kb.danRer7.bed.gz  \n",
            "   creating: ChromHMM/COORDS/dm3/\n",
            "  inflating: ChromHMM/COORDS/dm3/RefSeqExon.dm3.bed.gz  \n",
            "  inflating: ChromHMM/COORDS/dm3/RefSeqGene.dm3.bed.gz  \n",
            "  inflating: ChromHMM/COORDS/dm3/RefSeqTES.dm3.bed.gz  \n",
            "  inflating: ChromHMM/COORDS/dm3/RefSeqTSS.dm3.bed.gz  \n",
            "  inflating: ChromHMM/COORDS/dm3/RefSeqTSS2kb.dm3.bed.gz  \n",
            "   creating: ChromHMM/COORDS/dm6/\n",
            "  inflating: ChromHMM/COORDS/dm6/RefSeqExon.dm6.bed.gz  \n",
            "  inflating: ChromHMM/COORDS/dm6/RefSeqGene.dm6.bed.gz  \n",
            "  inflating: ChromHMM/COORDS/dm6/RefSeqTES.dm6.bed.gz  \n",
            "  inflating: ChromHMM/COORDS/dm6/RefSeqTSS.dm6.bed.gz  \n",
            "  inflating: ChromHMM/COORDS/dm6/RefSeqTSS2kb.dm6.bed.gz  \n",
            "   creating: ChromHMM/COORDS/hg18/\n",
            "  inflating: ChromHMM/COORDS/hg18/CpGIsland.hg18.bed.gz  \n",
            " extracting: ChromHMM/COORDS/hg18/laminB1lads.hg18.bed.gz  \n",
            "  inflating: ChromHMM/COORDS/hg18/RefSeqExon.hg18.bed.gz  \n",
            "  inflating: ChromHMM/COORDS/hg18/RefSeqGene.hg18.bed.gz  \n",
            "  inflating: ChromHMM/COORDS/hg18/RefSeqTES.hg18.bed.gz  \n",
            "  inflating: ChromHMM/COORDS/hg18/RefSeqTSS.hg18.bed.gz  \n",
            "  inflating: ChromHMM/COORDS/hg18/RefSeqTSS2kb.hg18.bed.gz  \n",
            "   creating: ChromHMM/COORDS/hg19/\n",
            "  inflating: ChromHMM/COORDS/hg19/CpGIsland.hg19.bed.gz  \n",
            " extracting: ChromHMM/COORDS/hg19/laminB1lads.hg19.bed.gz  \n",
            "  inflating: ChromHMM/COORDS/hg19/RefSeqExon.hg19.bed.gz  \n",
            "  inflating: ChromHMM/COORDS/hg19/RefSeqGene.hg19.bed.gz  \n",
            "  inflating: ChromHMM/COORDS/hg19/RefSeqTES.hg19.bed.gz  \n",
            "  inflating: ChromHMM/COORDS/hg19/RefSeqTSS.hg19.bed.gz  \n",
            "  inflating: ChromHMM/COORDS/hg19/RefSeqTSS2kb.hg19.bed.gz  \n",
            "   creating: ChromHMM/COORDS/hg38/\n",
            "  inflating: ChromHMM/COORDS/hg38/CpGIsland.hg38.bed.gz  \n",
            "  inflating: ChromHMM/COORDS/hg38/RefSeqExon.hg38.bed.gz  \n",
            "  inflating: ChromHMM/COORDS/hg38/RefSeqGene.hg38.bed.gz  \n",
            "  inflating: ChromHMM/COORDS/hg38/RefSeqTES.hg38.bed.gz  \n",
            "  inflating: ChromHMM/COORDS/hg38/RefSeqTSS.hg38.bed.gz  \n",
            "  inflating: ChromHMM/COORDS/hg38/RefSeqTSS2kb.hg38.bed.gz  \n",
            "   creating: ChromHMM/COORDS/mm10/\n",
            "  inflating: ChromHMM/COORDS/mm10/CpGIsland.mm10.bed.gz  \n",
            "  inflating: ChromHMM/COORDS/mm10/RefSeqExon.mm10.bed.gz  \n",
            "  inflating: ChromHMM/COORDS/mm10/RefSeqGene.mm10.bed.gz  \n",
            "  inflating: ChromHMM/COORDS/mm10/RefSeqTES.mm10.bed.gz  \n",
            "  inflating: ChromHMM/COORDS/mm10/RefSeqTSS.mm10.bed.gz  \n",
            "  inflating: ChromHMM/COORDS/mm10/RefSeqTSS2kb.mm10.bed.gz  \n",
            "   creating: ChromHMM/COORDS/mm9/\n",
            "  inflating: ChromHMM/COORDS/mm9/CpGIsland.mm9.bed.gz  \n",
            "  inflating: ChromHMM/COORDS/mm9/RefSeqExon.mm9.bed.gz  \n",
            "  inflating: ChromHMM/COORDS/mm9/RefSeqGene.mm9.bed.gz  \n",
            "  inflating: ChromHMM/COORDS/mm9/RefSeqTES.mm9.bed.gz  \n",
            "  inflating: ChromHMM/COORDS/mm9/RefSeqTSS.mm9.bed.gz  \n",
            "  inflating: ChromHMM/COORDS/mm9/RefSeqTSS2kb.mm9.bed.gz  \n",
            "   creating: ChromHMM/COORDS/rn5/\n",
            "  inflating: ChromHMM/COORDS/rn5/CpGIsland.rn5.bed.gz  \n",
            "  inflating: ChromHMM/COORDS/rn5/RefSeqExon.rn5.bed.gz  \n",
            "  inflating: ChromHMM/COORDS/rn5/RefSeqGene.rn5.bed.gz  \n",
            "  inflating: ChromHMM/COORDS/rn5/RefSeqTES.rn5.bed.gz  \n",
            "  inflating: ChromHMM/COORDS/rn5/RefSeqTSS.rn5.bed.gz  \n",
            "  inflating: ChromHMM/COORDS/rn5/RefSeqTSS2kb.rn5.bed.gz  \n",
            "   creating: ChromHMM/COORDS/rn6/\n",
            "  inflating: ChromHMM/COORDS/rn6/CpGIsland.rn6.bed.gz  \n",
            "  inflating: ChromHMM/COORDS/rn6/RefSeqExon.rn6.bed.gz  \n",
            "  inflating: ChromHMM/COORDS/rn6/RefSeqGene.rn6.bed.gz  \n",
            "  inflating: ChromHMM/COORDS/rn6/RefSeqTES.rn6.bed.gz  \n",
            "  inflating: ChromHMM/COORDS/rn6/RefSeqTSS.rn6.bed.gz  \n",
            "  inflating: ChromHMM/COORDS/rn6/RefSeqTSS2kb.rn6.bed.gz  \n",
            "   creating: ChromHMM/SAMPLEDATA_HG18/\n",
            "  inflating: ChromHMM/SAMPLEDATA_HG18/GM12878_chr11_binary.txt.gz  \n",
            "  inflating: ChromHMM/SAMPLEDATA_HG18/K562_chr11_binary.txt.gz  \n",
            "   creating: ChromHMM/SRC/\n",
            "   creating: ChromHMM/SRC/edu/\n",
            "   creating: ChromHMM/SRC/edu/mit/\n",
            "   creating: ChromHMM/SRC/edu/mit/compbio/\n",
            "   creating: ChromHMM/SRC/edu/mit/compbio/ChromHMM/\n",
            "  inflating: ChromHMM/SRC/edu/mit/compbio/ChromHMM/BrowserOutput.java  \n",
            "  inflating: ChromHMM/SRC/edu/mit/compbio/ChromHMM/ChromHMM.java  \n",
            "  inflating: ChromHMM/SRC/edu/mit/compbio/ChromHMM/ConvertGeneTable.java  \n",
            "  inflating: ChromHMM/SRC/edu/mit/compbio/ChromHMM/NestedEliminateInitialize.java  \n",
            "  inflating: ChromHMM/SRC/edu/mit/compbio/ChromHMM/Preprocessing.java  \n",
            "  inflating: ChromHMM/SRC/edu/mit/compbio/ChromHMM/StateAnalysis.java  \n",
            "  inflating: ChromHMM/SRC/edu/mit/compbio/ChromHMM/Util.java  \n",
            "   creating: ChromHMM/SRC/org/\n",
            "   creating: ChromHMM/SRC/org/tc33/\n",
            "   creating: ChromHMM/SRC/org/tc33/jheatchart/\n",
            "  inflating: ChromHMM/SRC/org/tc33/jheatchart/HeatChart.java  \n"
          ]
        }
      ]
    },
    {
      "cell_type": "code",
      "source": [
        "! wget http://hgdownload.cse.ucsc.edu/goldenPath/hg19/encodeDCC/wgEncodeBroadHistone/wgEncodeBroadHistoneDnd41H2azAlnRep1.bam -O H2AFZ.bam\n",
        "! wget http://hgdownload.cse.ucsc.edu/goldenPath/hg19/encodeDCC/wgEncodeBroadHistone/wgEncodeBroadHistoneDnd41H3k27acAlnRep1.bam -O H3K27ac.bam\n",
        "! wget http://hgdownload.cse.ucsc.edu/goldenPath/hg19/encodeDCC/wgEncodeBroadHistone/wgEncodeBroadHistoneDnd41H3k27me3AlnRep1.bam -O H3K27me3.bam\n",
        "! wget http://hgdownload.cse.ucsc.edu/goldenPath/hg19/encodeDCC/wgEncodeBroadHistone/wgEncodeBroadHistoneDnd41H3k36me3AlnRep1.bam -O H3K36me3.bam\n",
        "! wget http://hgdownload.cse.ucsc.edu/goldenPath/hg19/encodeDCC/wgEncodeBroadHistone/wgEncodeBroadHistoneDnd41H3k04me1AlnRep1.bam -O H3K4me1.bam\n",
        "! wget http://hgdownload.cse.ucsc.edu/goldenPath/hg19/encodeDCC/wgEncodeBroadHistone/wgEncodeBroadHistoneDnd41H3k04me2AlnRep1.bam -O H3K4me2.bam\n",
        "! wget http://hgdownload.cse.ucsc.edu/goldenPath/hg19/encodeDCC/wgEncodeBroadHistone/wgEncodeBroadHistoneDnd41H3k04me3AlnRep1.bam -O H3K4me3.bam\n",
        "! wget http://hgdownload.cse.ucsc.edu/goldenPath/hg19/encodeDCC/wgEncodeBroadHistone/wgEncodeBroadHistoneDnd41H3k79me2AlnRep1.bam -O H3K79me2.bam\n",
        "! wget http://hgdownload.cse.ucsc.edu/goldenPath/hg19/encodeDCC/wgEncodeBroadHistone/wgEncodeBroadHistoneDnd41H3k09acAlnRep1.bam -O H3K9ac.bam\n",
        "! wget http://hgdownload.cse.ucsc.edu/goldenPath/hg19/encodeDCC/wgEncodeBroadHistone/wgEncodeBroadHistoneDnd41H4k20me1AlnRep1.bam -O H4K20me1.bam"
      ],
      "metadata": {
        "id": "PSWbbv8wcFUY",
        "colab": {
          "base_uri": "https://localhost:8080/"
        },
        "outputId": "4145b118-4f35-4901-a91a-60f77cb8ab23"
      },
      "execution_count": 6,
      "outputs": [
        {
          "output_type": "stream",
          "name": "stdout",
          "text": [
            "--2022-03-27 18:54:23--  http://hgdownload.cse.ucsc.edu/goldenPath/hg19/encodeDCC/wgEncodeBroadHistone/wgEncodeBroadHistoneDnd41H2azAlnRep1.bam\n",
            "Resolving hgdownload.cse.ucsc.edu (hgdownload.cse.ucsc.edu)... 128.114.119.163\n",
            "Connecting to hgdownload.cse.ucsc.edu (hgdownload.cse.ucsc.edu)|128.114.119.163|:80... connected.\n",
            "HTTP request sent, awaiting response... 200 OK\n",
            "Length: 1365570218 (1.3G) [application/octet-stream]\n",
            "Saving to: ‘H2AFZ.bam’\n",
            "\n",
            "H2AFZ.bam           100%[===================>]   1.27G   153MB/s    in 8.1s    \n",
            "\n",
            "2022-03-27 18:54:31 (161 MB/s) - ‘H2AFZ.bam’ saved [1365570218/1365570218]\n",
            "\n",
            "--2022-03-27 18:54:31--  http://hgdownload.cse.ucsc.edu/goldenPath/hg19/encodeDCC/wgEncodeBroadHistone/wgEncodeBroadHistoneDnd41H3k27acAlnRep1.bam\n",
            "Resolving hgdownload.cse.ucsc.edu (hgdownload.cse.ucsc.edu)... 128.114.119.163\n",
            "Connecting to hgdownload.cse.ucsc.edu (hgdownload.cse.ucsc.edu)|128.114.119.163|:80... connected.\n",
            "HTTP request sent, awaiting response... 200 OK\n",
            "Length: 1488790047 (1.4G) [application/octet-stream]\n",
            "Saving to: ‘H3K27ac.bam’\n",
            "\n",
            "H3K27ac.bam         100%[===================>]   1.39G   163MB/s    in 8.5s    \n",
            "\n",
            "2022-03-27 18:54:40 (166 MB/s) - ‘H3K27ac.bam’ saved [1488790047/1488790047]\n",
            "\n",
            "--2022-03-27 18:54:40--  http://hgdownload.cse.ucsc.edu/goldenPath/hg19/encodeDCC/wgEncodeBroadHistone/wgEncodeBroadHistoneDnd41H3k27me3AlnRep1.bam\n",
            "Resolving hgdownload.cse.ucsc.edu (hgdownload.cse.ucsc.edu)... 128.114.119.163\n",
            "Connecting to hgdownload.cse.ucsc.edu (hgdownload.cse.ucsc.edu)|128.114.119.163|:80... connected.\n",
            "HTTP request sent, awaiting response... 200 OK\n",
            "Length: 1328000872 (1.2G) [application/octet-stream]\n",
            "Saving to: ‘H3K27me3.bam’\n",
            "\n",
            "H3K27me3.bam        100%[===================>]   1.24G   152MB/s    in 8.2s    \n",
            "\n",
            "2022-03-27 18:54:48 (154 MB/s) - ‘H3K27me3.bam’ saved [1328000872/1328000872]\n",
            "\n",
            "--2022-03-27 18:54:48--  http://hgdownload.cse.ucsc.edu/goldenPath/hg19/encodeDCC/wgEncodeBroadHistone/wgEncodeBroadHistoneDnd41H3k36me3AlnRep1.bam\n",
            "Resolving hgdownload.cse.ucsc.edu (hgdownload.cse.ucsc.edu)... 128.114.119.163\n",
            "Connecting to hgdownload.cse.ucsc.edu (hgdownload.cse.ucsc.edu)|128.114.119.163|:80... connected.\n",
            "HTTP request sent, awaiting response... 200 OK\n",
            "Length: 1425221160 (1.3G) [application/octet-stream]\n",
            "Saving to: ‘H3K36me3.bam’\n",
            "\n",
            "H3K36me3.bam        100%[===================>]   1.33G   147MB/s    in 9.0s    \n",
            "\n",
            "2022-03-27 18:54:57 (152 MB/s) - ‘H3K36me3.bam’ saved [1425221160/1425221160]\n",
            "\n",
            "--2022-03-27 18:54:58--  http://hgdownload.cse.ucsc.edu/goldenPath/hg19/encodeDCC/wgEncodeBroadHistone/wgEncodeBroadHistoneDnd41H3k04me1AlnRep1.bam\n",
            "Resolving hgdownload.cse.ucsc.edu (hgdownload.cse.ucsc.edu)... 128.114.119.163\n",
            "Connecting to hgdownload.cse.ucsc.edu (hgdownload.cse.ucsc.edu)|128.114.119.163|:80... connected.\n",
            "HTTP request sent, awaiting response... 200 OK\n",
            "Length: 1166471220 (1.1G) [application/octet-stream]\n",
            "Saving to: ‘H3K4me1.bam’\n",
            "\n",
            "H3K4me1.bam         100%[===================>]   1.09G   184MB/s    in 6.4s    \n",
            "\n",
            "2022-03-27 18:55:04 (174 MB/s) - ‘H3K4me1.bam’ saved [1166471220/1166471220]\n",
            "\n",
            "--2022-03-27 18:55:04--  http://hgdownload.cse.ucsc.edu/goldenPath/hg19/encodeDCC/wgEncodeBroadHistone/wgEncodeBroadHistoneDnd41H3k04me2AlnRep1.bam\n",
            "Resolving hgdownload.cse.ucsc.edu (hgdownload.cse.ucsc.edu)... 128.114.119.163\n",
            "Connecting to hgdownload.cse.ucsc.edu (hgdownload.cse.ucsc.edu)|128.114.119.163|:80... connected.\n",
            "HTTP request sent, awaiting response... 200 OK\n",
            "Length: 1120577001 (1.0G) [application/octet-stream]\n",
            "Saving to: ‘H3K4me2.bam’\n",
            "\n",
            "H3K4me2.bam         100%[===================>]   1.04G   160MB/s    in 6.8s    \n",
            "\n",
            "2022-03-27 18:55:11 (157 MB/s) - ‘H3K4me2.bam’ saved [1120577001/1120577001]\n",
            "\n",
            "--2022-03-27 18:55:11--  http://hgdownload.cse.ucsc.edu/goldenPath/hg19/encodeDCC/wgEncodeBroadHistone/wgEncodeBroadHistoneDnd41H3k04me3AlnRep1.bam\n",
            "Resolving hgdownload.cse.ucsc.edu (hgdownload.cse.ucsc.edu)... 128.114.119.163\n",
            "Connecting to hgdownload.cse.ucsc.edu (hgdownload.cse.ucsc.edu)|128.114.119.163|:80... connected.\n",
            "HTTP request sent, awaiting response... 200 OK\n",
            "Length: 1387145166 (1.3G) [application/octet-stream]\n",
            "Saving to: ‘H3K4me3.bam’\n",
            "\n",
            "H3K4me3.bam         100%[===================>]   1.29G   158MB/s    in 8.5s    \n",
            "\n",
            "2022-03-27 18:55:20 (156 MB/s) - ‘H3K4me3.bam’ saved [1387145166/1387145166]\n",
            "\n",
            "--2022-03-27 18:55:20--  http://hgdownload.cse.ucsc.edu/goldenPath/hg19/encodeDCC/wgEncodeBroadHistone/wgEncodeBroadHistoneDnd41H3k79me2AlnRep1.bam\n",
            "Resolving hgdownload.cse.ucsc.edu (hgdownload.cse.ucsc.edu)... 128.114.119.163\n",
            "Connecting to hgdownload.cse.ucsc.edu (hgdownload.cse.ucsc.edu)|128.114.119.163|:80... connected.\n",
            "HTTP request sent, awaiting response... 200 OK\n",
            "Length: 1452123141 (1.4G) [application/octet-stream]\n",
            "Saving to: ‘H3K79me2.bam’\n",
            "\n",
            "H3K79me2.bam        100%[===================>]   1.35G   153MB/s    in 9.1s    \n",
            "\n",
            "2022-03-27 18:55:29 (152 MB/s) - ‘H3K79me2.bam’ saved [1452123141/1452123141]\n",
            "\n",
            "--2022-03-27 18:55:29--  http://hgdownload.cse.ucsc.edu/goldenPath/hg19/encodeDCC/wgEncodeBroadHistone/wgEncodeBroadHistoneDnd41H3k09acAlnRep1.bam\n",
            "Resolving hgdownload.cse.ucsc.edu (hgdownload.cse.ucsc.edu)... 128.114.119.163\n",
            "Connecting to hgdownload.cse.ucsc.edu (hgdownload.cse.ucsc.edu)|128.114.119.163|:80... connected.\n",
            "HTTP request sent, awaiting response... 200 OK\n",
            "Length: 1228857874 (1.1G) [application/octet-stream]\n",
            "Saving to: ‘H3K9ac.bam’\n",
            "\n",
            "H3K9ac.bam          100%[===================>]   1.14G   175MB/s    in 8.0s    \n",
            "\n",
            "2022-03-27 18:55:37 (147 MB/s) - ‘H3K9ac.bam’ saved [1228857874/1228857874]\n",
            "\n",
            "--2022-03-27 18:55:37--  http://hgdownload.cse.ucsc.edu/goldenPath/hg19/encodeDCC/wgEncodeBroadHistone/wgEncodeBroadHistoneDnd41H4k20me1AlnRep1.bam\n",
            "Resolving hgdownload.cse.ucsc.edu (hgdownload.cse.ucsc.edu)... 128.114.119.163\n",
            "Connecting to hgdownload.cse.ucsc.edu (hgdownload.cse.ucsc.edu)|128.114.119.163|:80... connected.\n",
            "HTTP request sent, awaiting response... 200 OK\n",
            "Length: 1500857141 (1.4G) [application/octet-stream]\n",
            "Saving to: ‘H4K20me1.bam’\n",
            "\n",
            "H4K20me1.bam        100%[===================>]   1.40G   156MB/s    in 9.1s    \n",
            "\n",
            "2022-03-27 18:55:47 (157 MB/s) - ‘H4K20me1.bam’ saved [1500857141/1500857141]\n",
            "\n"
          ]
        }
      ]
    },
    {
      "cell_type": "code",
      "source": [
        "! wget http://hgdownload.cse.ucsc.edu/goldenPath/hg19/encodeDCC/wgEncodeBroadHistone/wgEncodeBroadHistoneDnd41ControlStdAlnRep1.bam -O control.bam"
      ],
      "metadata": {
        "colab": {
          "base_uri": "https://localhost:8080/"
        },
        "id": "W4kLs0Q5P84D",
        "outputId": "0333c6f0-c0f9-4bb8-a6fd-b928e273187c"
      },
      "execution_count": 7,
      "outputs": [
        {
          "output_type": "stream",
          "name": "stdout",
          "text": [
            "--2022-03-27 18:55:47--  http://hgdownload.cse.ucsc.edu/goldenPath/hg19/encodeDCC/wgEncodeBroadHistone/wgEncodeBroadHistoneDnd41ControlStdAlnRep1.bam\n",
            "Resolving hgdownload.cse.ucsc.edu (hgdownload.cse.ucsc.edu)... 128.114.119.163\n",
            "Connecting to hgdownload.cse.ucsc.edu (hgdownload.cse.ucsc.edu)|128.114.119.163|:80... connected.\n",
            "HTTP request sent, awaiting response... 200 OK\n",
            "Length: 1650447405 (1.5G) [application/octet-stream]\n",
            "Saving to: ‘control.bam’\n",
            "\n",
            "control.bam         100%[===================>]   1.54G   155MB/s    in 9.8s    \n",
            "\n",
            "2022-03-27 18:55:57 (161 MB/s) - ‘control.bam’ saved [1650447405/1650447405]\n",
            "\n"
          ]
        }
      ]
    },
    {
      "cell_type": "code",
      "source": [
        "! java -mx5000M -jar /content/ChromHMM/ChromHMM.jar BinarizeBam -b 200  /content/ChromHMM/CHROMSIZES/hg19.txt /content/ cellmarkfiletable.txt   binarizedData"
      ],
      "metadata": {
        "colab": {
          "base_uri": "https://localhost:8080/"
        },
        "id": "GcVBvuQZfzb8",
        "outputId": "27cf3002-2961-41ce-fb35-c44d0a696aa6"
      },
      "execution_count": 8,
      "outputs": [
        {
          "output_type": "stream",
          "name": "stdout",
          "text": [
            "Writing to file binarizedData/Dnd41_chr1_binary.txt\n",
            "Writing to file binarizedData/Dnd41_chr2_binary.txt\n",
            "Writing to file binarizedData/Dnd41_chr3_binary.txt\n",
            "Writing to file binarizedData/Dnd41_chr4_binary.txt\n",
            "Writing to file binarizedData/Dnd41_chr5_binary.txt\n",
            "Writing to file binarizedData/Dnd41_chr6_binary.txt\n",
            "Writing to file binarizedData/Dnd41_chr7_binary.txt\n",
            "Writing to file binarizedData/Dnd41_chrX_binary.txt\n",
            "Writing to file binarizedData/Dnd41_chr8_binary.txt\n",
            "Writing to file binarizedData/Dnd41_chr9_binary.txt\n",
            "Writing to file binarizedData/Dnd41_chr10_binary.txt\n",
            "Writing to file binarizedData/Dnd41_chr11_binary.txt\n",
            "Writing to file binarizedData/Dnd41_chr12_binary.txt\n",
            "Writing to file binarizedData/Dnd41_chr13_binary.txt\n",
            "Writing to file binarizedData/Dnd41_chr14_binary.txt\n",
            "Writing to file binarizedData/Dnd41_chr15_binary.txt\n",
            "Writing to file binarizedData/Dnd41_chr16_binary.txt\n",
            "Writing to file binarizedData/Dnd41_chr17_binary.txt\n",
            "Writing to file binarizedData/Dnd41_chr18_binary.txt\n",
            "Writing to file binarizedData/Dnd41_chr20_binary.txt\n",
            "Writing to file binarizedData/Dnd41_chrY_binary.txt\n",
            "Writing to file binarizedData/Dnd41_chr19_binary.txt\n",
            "Writing to file binarizedData/Dnd41_chr22_binary.txt\n",
            "Writing to file binarizedData/Dnd41_chr21_binary.txt\n",
            "Writing to file binarizedData/Dnd41_chrM_binary.txt\n"
          ]
        }
      ]
    },
    {
      "cell_type": "code",
      "source": [
        "! java -mx5000M -jar /content/ChromHMM/ChromHMM.jar LearnModel /content/binarizedData output 10 hg19"
      ],
      "metadata": {
        "colab": {
          "base_uri": "https://localhost:8080/"
        },
        "id": "EbM7zxgXVKyg",
        "outputId": "b1336185-77fd-4516-cd98-b2656858d088"
      },
      "execution_count": 9,
      "outputs": [
        {
          "output_type": "stream",
          "name": "stdout",
          "text": [
            "Writing to file output/transitions_10.txt\n",
            "Writing to file output/emissions_10.txt\n",
            "Writing to file output/emissions_10.svg\n",
            "Writing to file output/emissions_10.png\n",
            "Writing to file output/transitions_10.png\n",
            "Writing to file output/transitions_10.svg\n",
            "Writing to file output/model_10.txt\n",
            " Iteration  Estimated Log Likelihood     Change    Total Time (secs)\n",
            "         1             -11317567.955          -                 18.8\n",
            "         2              -9569108.078 1748459.877                 31.7\n",
            "         3              -9183992.524 385115.553                 52.2\n",
            "         4              -9013904.290 170088.235                 70.5\n",
            "         5              -8892077.231 121827.059                 82.9\n",
            "         6              -8805310.949  86766.282                 95.2\n",
            "         7              -8734967.045  70343.904                107.5\n",
            "         8              -8679983.718  54983.327                119.9\n",
            "         9              -8651520.675  28463.043                132.1\n",
            "        10              -8639109.290  12411.385                144.5\n",
            "        11              -8633304.611   5804.679                156.4\n",
            "        12              -8630420.993   2883.618                168.2\n",
            "        13              -8628873.055   1547.938                180.1\n",
            "        14              -8627959.476    913.578                191.8\n",
            "        15              -8627362.601    596.875                203.6\n",
            "        16              -8626948.725    413.876                215.3\n",
            "        17              -8626649.922    298.803                226.9\n",
            "        18              -8626424.584    225.338                238.6\n",
            "        19              -8626250.506    174.079                250.3\n",
            "        20              -8626115.787    134.719                261.9\n",
            "        21              -8626011.361    104.426                273.4\n",
            "        22              -8625929.858     81.503                284.9\n",
            "        23              -8625865.597     64.261                296.4\n",
            "        24              -8625814.341     51.256                308.0\n",
            "        25              -8625772.976     41.365                319.5\n",
            "        26              -8625739.186     33.790                331.0\n",
            "        27              -8625711.206     27.980                342.5\n",
            "        28              -8625687.670     23.536                354.1\n",
            "        29              -8625667.515     20.154                365.6\n",
            "        30              -8625649.914     17.601                377.1\n",
            "        31              -8625634.208     15.706                388.6\n",
            "        32              -8625619.926     14.281                400.0\n",
            "        33              -8625606.636     13.291                415.6\n",
            "        34              -8625594.014     12.622                427.2\n",
            "        35              -8625581.794     12.219                438.8\n",
            "        36              -8625569.758     12.036                450.4\n",
            "        37              -8625557.723     12.035                461.9\n",
            "        38              -8625545.533     12.191                473.4\n",
            "        39              -8625533.045     12.487                484.9\n",
            "        40              -8625520.129     12.916                496.4\n",
            "        41              -8625506.645     13.483                507.8\n",
            "        42              -8625492.438     14.207                519.3\n",
            "        43              -8625477.316     15.122                530.7\n",
            "        44              -8625461.031     16.285                542.2\n",
            "        45              -8625443.256     17.775                553.7\n",
            "        46              -8625423.548     19.708                565.1\n",
            "        47              -8625401.289     22.259                576.6\n",
            "        48              -8625375.599     25.690                588.3\n",
            "        49              -8625345.178     30.421                600.2\n",
            "        50              -8625308.050     37.128                612.0\n",
            "        51              -8625261.125     46.925                623.8\n",
            "        52              -8625199.456     61.669                635.7\n",
            "        53              -8625115.060     84.396                647.7\n",
            "        54              -8624994.988    120.072                659.7\n",
            "        55              -8624818.907    176.081                671.6\n",
            "        56              -8624555.379    263.528                683.5\n",
            "        57              -8624163.905    391.475                695.4\n",
            "        58              -8623611.309    552.596                707.3\n",
            "        59              -8622909.004    702.304                719.4\n",
            "        60              -8622134.688    774.316                731.4\n",
            "        61              -8621395.276    739.412                743.3\n",
            "        62              -8620752.638    642.638                755.6\n",
            "        63              -8620226.716    525.921                767.5\n",
            "        64              -8619818.217    408.500                779.4\n",
            "        65              -8619512.503    305.714                791.4\n",
            "        66              -8619288.858    223.645                803.3\n",
            "        67              -8619127.412    161.446                815.2\n",
            "        68              -8619011.773    115.638                827.1\n",
            "        69              -8618929.343     82.431                840.3\n",
            "        70              -8618870.763     58.580                854.9\n",
            "        71              -8618829.209     41.554                866.9\n",
            "        72              -8618799.754     29.455                878.9\n",
            "        73              -8618778.867     20.887                890.8\n",
            "        74              -8618764.035     14.832                902.7\n",
            "        75              -8618753.477     10.558                914.6\n",
            "        76              -8618745.936      7.541                926.6\n",
            "        77              -8618740.527      5.410                938.6\n",
            "        78              -8618736.625      3.901                950.6\n",
            "        79              -8618733.795      2.831                962.5\n",
            "        80              -8618731.727      2.068                974.4\n",
            "        81              -8618730.205      1.522                986.3\n",
            "        82              -8618729.076      1.129                998.2\n",
            "        83              -8618728.232      0.844               1010.2\n",
            "        84              -8618727.595      0.637               1023.5\n",
            "        85              -8618727.110      0.485               1035.5\n",
            "        86              -8618726.737      0.372               1047.5\n",
            "        87              -8618726.449      0.288               1059.4\n",
            "        88              -8618726.224      0.225               1071.5\n",
            "        89              -8618726.047      0.177               1083.8\n",
            "        90              -8618725.906      0.140               1095.7\n",
            "        91              -8618725.794      0.112               1107.6\n",
            "        92              -8618725.704      0.090               1119.5\n",
            "        93              -8618725.632      0.073               1131.5\n",
            "        94              -8618725.573      0.059               1143.5\n",
            "        95              -8618725.525      0.048               1155.4\n",
            "        96              -8618725.486      0.039               1167.3\n",
            "        97              -8618725.453      0.032               1179.3\n",
            "        98              -8618725.426      0.027               1191.2\n",
            "        99              -8618725.405      0.022               1203.1\n",
            "       100              -8618725.386      0.018               1215.0\n",
            "       101              -8618725.371      0.015               1227.0\n",
            "       102              -8618725.359      0.013               1239.0\n",
            "       103              -8618725.348      0.011               1250.9\n",
            "       104              -8618725.339      0.009               1262.8\n",
            "       105              -8618725.332      0.007               1274.7\n",
            "       106              -8618725.326      0.006               1286.6\n",
            "       107              -8618725.320      0.005               1298.5\n",
            "       108              -8618725.316      0.004               1310.4\n",
            "       109              -8618725.312      0.004               1322.3\n",
            "       110              -8618725.309      0.003               1334.2\n",
            "       111              -8618725.306      0.003               1346.1\n",
            "       112              -8618725.304      0.002               1358.0\n",
            "       113              -8618725.302      0.002               1369.9\n",
            "       114              -8618725.300      0.002               1381.9\n",
            "       115              -8618725.298      0.002               1393.8\n",
            "       116              -8618725.297      0.001               1405.9\n",
            "       117              -8618725.296      0.001               1417.8\n",
            "Writing to file output/Dnd41_10_segments.bed\n",
            "Writing to file output/Dnd41_10_dense.bed\n",
            "Writing to file output/Dnd41_10_expanded.bed\n",
            "Writing to file output/Dnd41_10_overlap.txt\n",
            "Writing to file output/Dnd41_10_overlap.png\n",
            "Writing to file output/Dnd41_10_overlap.svg\n",
            "Writing to file output/Dnd41_10_RefSeqTSS_neighborhood.txt\n",
            "Writing to file output/Dnd41_10_RefSeqTSS_neighborhood.png\n",
            "Writing to file output/Dnd41_10_RefSeqTSS_neighborhood.svg\n",
            "Writing to file output/Dnd41_10_RefSeqTES_neighborhood.txt\n",
            "Writing to file output/Dnd41_10_RefSeqTES_neighborhood.png\n",
            "Writing to file output/Dnd41_10_RefSeqTES_neighborhood.svg\n",
            "Warning could not automatically open in a browser output/webpage_10.html\n"
          ]
        }
      ]
    },
    {
      "cell_type": "code",
      "source": [
        "! zip archive -r output"
      ],
      "metadata": {
        "colab": {
          "base_uri": "https://localhost:8080/"
        },
        "id": "4QGKZFOHmhZK",
        "outputId": "a97f9b72-adc7-4c2f-c553-226f23bb0539"
      },
      "execution_count": 10,
      "outputs": [
        {
          "output_type": "stream",
          "name": "stdout",
          "text": [
            "  adding: output/ (stored 0%)\n",
            "  adding: output/Dnd41_10_dense.bed (deflated 84%)\n",
            "  adding: output/Dnd41_10_overlap.png (deflated 19%)\n",
            "  adding: output/Dnd41_10_RefSeqTES_neighborhood.svg (deflated 73%)\n",
            "  adding: output/transitions_10.svg (deflated 68%)\n",
            "  adding: output/Dnd41_10_expanded.bed (deflated 69%)\n",
            "  adding: output/Dnd41_10_RefSeqTSS_neighborhood.png (deflated 30%)\n",
            "  adding: output/emissions_10.svg (deflated 70%)\n",
            "  adding: output/Dnd41_10_segments.bed (deflated 79%)\n",
            "  adding: output/model_10.txt (deflated 71%)\n",
            "  adding: output/Dnd41_10_RefSeqTSS_neighborhood.txt (deflated 54%)\n",
            "  adding: output/Dnd41_10_overlap.txt (deflated 48%)\n",
            "  adding: output/Dnd41_10_RefSeqTES_neighborhood.txt (deflated 57%)\n",
            "  adding: output/emissions_10.txt (deflated 49%)\n",
            "  adding: output/Dnd41_10_RefSeqTES_neighborhood.png (deflated 36%)\n",
            "  adding: output/transitions_10.txt (deflated 50%)\n",
            "  adding: output/Dnd41_10_overlap.svg (deflated 70%)\n",
            "  adding: output/transitions_10.png (deflated 17%)\n",
            "  adding: output/Dnd41_10_RefSeqTSS_neighborhood.svg (deflated 73%)\n",
            "  adding: output/webpage_10.html (deflated 72%)\n",
            "  adding: output/emissions_10.png (deflated 21%)\n"
          ]
        }
      ]
    }
  ]
}